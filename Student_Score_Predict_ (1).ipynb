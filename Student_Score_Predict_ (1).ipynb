{
  "nbformat": 4,
  "nbformat_minor": 0,
  "metadata": {
    "colab": {
      "name": "Student_Score_Predict .ipynb",
      "private_outputs": true,
      "provenance": []
    },
    "kernelspec": {
      "name": "python3",
      "display_name": "Python 3"
    },
    "language_info": {
      "name": "python"
    }
  },
  "cells": [
    {
      "cell_type": "markdown",
      "metadata": {
        "id": "aO6sD1jbG8Ea"
      },
      "source": [
        "# **Student_Score_Predict**"
      ]
    },
    {
      "cell_type": "markdown",
      "metadata": {
        "id": "KRTnwX-lXoCN"
      },
      "source": [
        "**DataSet_Link**: https://raw.githubusercontent.com/AdiPersonalWorks/Random/master/student_scores%20-%20student_scores.csv'"
      ]
    },
    {
      "cell_type": "code",
      "metadata": {
        "id": "N7rtFVNpGV1R"
      },
      "source": [
        "#importing libraray\n",
        "import numpy as np\n",
        "import pandas as pd\n",
        "import matplotlib.pyplot as plt\n",
        "import seaborn as sns"
      ],
      "execution_count": null,
      "outputs": []
    },
    {
      "cell_type": "code",
      "metadata": {
        "id": "LvW1smvLGyIJ"
      },
      "source": [
        "#reading the file via url using read_csv function.\n",
        "df =pd.read_csv('https://raw.githubusercontent.com/AdiPersonalWorks/Random/master/student_scores%20-%20student_scores.csv')"
      ],
      "execution_count": null,
      "outputs": []
    },
    {
      "cell_type": "code",
      "metadata": {
        "id": "SHIT7_j2G33Y"
      },
      "source": [
        "#top 5 records of data\n",
        "df.head()"
      ],
      "execution_count": null,
      "outputs": []
    },
    {
      "cell_type": "code",
      "metadata": {
        "id": "UxxNzrIuFdZE"
      },
      "source": [
        "#shape_of_data\n",
        "df.shape"
      ],
      "execution_count": null,
      "outputs": []
    },
    {
      "cell_type": "code",
      "metadata": {
        "id": "7vIBzUglHqZR"
      },
      "source": [
        "#info\n",
        "df.info()"
      ],
      "execution_count": null,
      "outputs": []
    },
    {
      "cell_type": "code",
      "metadata": {
        "id": "Ojkz9DwoHuhB"
      },
      "source": [
        "#is_null\n",
        "df.isnull()"
      ],
      "execution_count": null,
      "outputs": []
    },
    {
      "cell_type": "code",
      "metadata": {
        "id": "hnbvz54WIbGW"
      },
      "source": [
        "#importing lib\n",
        "from sklearn.model_selection import train_test_split\n",
        "from sklearn.linear_model import  LinearRegression\n",
        "from sklearn import metrics "
      ],
      "execution_count": null,
      "outputs": []
    },
    {
      "cell_type": "code",
      "metadata": {
        "id": "d_hQgiGlH0iI"
      },
      "source": [
        "#split the independent and dependent variable\n",
        "X =df.iloc[:,:-1]\n",
        "y =df.iloc[:,-1]"
      ],
      "execution_count": null,
      "outputs": []
    },
    {
      "cell_type": "code",
      "metadata": {
        "id": "Eb-EFBgRJACr"
      },
      "source": [
        "#train_test_split\n",
        "X_train ,X_test,y_train,y_test =train_test_split(X,y,test_size=0.3,random_state=22)"
      ],
      "execution_count": null,
      "outputs": []
    },
    {
      "cell_type": "code",
      "metadata": {
        "id": "I8ryeCzmJVXH"
      },
      "source": [
        "#check the shapes of training and testing \n",
        "print(\"Shape_X_train :\",X_train.shape)\n",
        "print('Shape_X_test  :',X_test.shape)\n",
        "print('Shape_y_train :',y_train.shape)\n",
        "print('Shape_y_test  :',y_test.shape)"
      ],
      "execution_count": null,
      "outputs": []
    },
    {
      "cell_type": "code",
      "metadata": {
        "id": "wst216EuKsnb"
      },
      "source": [
        "#training the model ...\n",
        "model =LinearRegression()\n",
        "model.fit(X_train,y_train)"
      ],
      "execution_count": null,
      "outputs": []
    },
    {
      "cell_type": "code",
      "metadata": {
        "id": "Q0N4RoIrLH2a"
      },
      "source": [
        "#predict\n",
        "y_pred = model.predict(X_test)"
      ],
      "execution_count": null,
      "outputs": []
    },
    {
      "cell_type": "code",
      "metadata": {
        "id": "njc7mhG5Mm2S"
      },
      "source": [
        "#predicted data\n",
        "y_pred"
      ],
      "execution_count": null,
      "outputs": []
    },
    {
      "cell_type": "code",
      "metadata": {
        "id": "DabEUTEoMpZ2"
      },
      "source": [
        "#tested data\n",
        "y_test"
      ],
      "execution_count": null,
      "outputs": []
    },
    {
      "cell_type": "code",
      "metadata": {
        "id": "FbtH901GM2A6"
      },
      "source": [
        "# Comparing Actual vs Predicted\n",
        "dff = pd.DataFrame({'Actual': y_test, 'Predicted': y_pred})  \n",
        "dff "
      ],
      "execution_count": null,
      "outputs": []
    },
    {
      "cell_type": "code",
      "metadata": {
        "id": "1oB9i-YZRMXO"
      },
      "source": [
        "#Ploting \n",
        "line = model.coef_*X+model.intercept_\n",
        "plt.scatter(X,y)\n",
        "plt.plot(X,line)\n",
        "plt.show()"
      ],
      "execution_count": null,
      "outputs": []
    },
    {
      "cell_type": "code",
      "metadata": {
        "id": "KE_os2akTt6O"
      },
      "source": [
        "plt.scatter(X_train,y_train,color=\"red\")\n",
        "plt.plot(X_train,model.predict(X_train),color=\"blue\")"
      ],
      "execution_count": null,
      "outputs": []
    },
    {
      "cell_type": "code",
      "metadata": {
        "id": "LEwKbmuGVKgN"
      },
      "source": [
        "plt.scatter(X_test,y_test,color=\"green\")\n",
        "plt.plot(X_test,model.predict(X_test),color=\"black\")"
      ],
      "execution_count": null,
      "outputs": []
    },
    {
      "cell_type": "code",
      "metadata": {
        "id": "-_IY4IjNVPVb"
      },
      "source": [
        "print('Coefficients: \\n', model.coef_)\n",
        "print(\"Mean squared error: %.2f\" % np.mean((model.predict(X_test) - y_test) ** 2))\n",
        "print('Variance score: %.2f' % model.score(X_test, y_test))"
      ],
      "execution_count": null,
      "outputs": []
    },
    {
      "cell_type": "code",
      "metadata": {
        "id": "edMfVMz9VRXT"
      },
      "source": [
        ""
      ],
      "execution_count": null,
      "outputs": []
    }
  ]
}